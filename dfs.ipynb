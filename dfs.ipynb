{
 "cells": [
  {
   "cell_type": "code",
   "execution_count": 55,
   "metadata": {},
   "outputs": [
    {
     "name": "stdout",
     "output_type": "stream",
     "text": [
      "{'a': ['b', 'c'], 'b': ['d', 'e', 'f'], 'c': ['g'], 'g': ['h']}\n",
      "2\n",
      "a\n",
      "b\n",
      "d\n",
      "e\n",
      "f\n",
      "c\n",
      "g\n",
      "h\n"
     ]
    }
   ],
   "source": [
    "tree = {\n",
    "    'a' : ['b','c'],\n",
    "    'b' : ['d', 'e', 'f'],\n",
    "    #'e' : ['x'],\n",
    "    'c' : ['g'],\n",
    "    'g' : ['h'],\n",
    "}\n",
    "print(tree)\n",
    "print(len(tree['a']))\n",
    "\n",
    "#print(tree['a'])\n",
    "#print(tree['d'])\n",
    "\n",
    "def dfs(tree, node, search):\n",
    "\n",
    "    print(node)\n",
    "    #print(search)\n",
    "    #print('next')\n",
    "    if node == search:\n",
    "        #print (node==search)\n",
    "        print(node)\n",
    "        return\n",
    "    if node in tree:\n",
    "        for n in tree[node]:\n",
    "            dfs(tree, n, search)\n",
    "        \n",
    "    \n",
    "\n",
    "dfs(tree, 'a', 'sdafa')"
   ]
  },
  {
   "cell_type": "code",
   "execution_count": null,
   "metadata": {},
   "outputs": [],
   "source": [
    "def bfs(tree, node, search):\n",
    "  if node == search:\n",
    "    print(node)\n",
    "    bfs_list = []\n",
    "  if len(node) > 0:\n",
    "    bfs_list += level\n",
    "    sub_level = []\n",
    "    for vertex in level:\n",
    "      sub_level += tree[vertex]\n",
    "    bfs_list += BFS(tree,sub_level)\n",
    "  return bfs_list\n",
    "        \n",
    "    \n",
    "\n",
    "bfs(tree, 'a', 'x')"
   ]
  },
  {
   "cell_type": "code",
   "execution_count": null,
   "metadata": {},
   "outputs": [],
   "source": [
    "def bfs(tree, node, search):\n",
    "\n",
    "    print(node)\n",
    "    #print(search)\n",
    "    #print('next')\n",
    "    if node == search:\n",
    "        #print (node==search)\n",
    "        print(node)\n",
    "        return\n",
    "    if node in tree:\n",
    "        for n in tree[node]:\n",
    "            dfs(tree, n, search)"
   ]
  }
 ],
 "metadata": {
  "kernelspec": {
   "display_name": "Python 3",
   "language": "python",
   "name": "python3"
  },
  "language_info": {
   "codemirror_mode": {
    "name": "ipython",
    "version": 3
   },
   "file_extension": ".py",
   "mimetype": "text/x-python",
   "name": "python",
   "nbconvert_exporter": "python",
   "pygments_lexer": "ipython3",
   "version": "3.7.1"
  }
 },
 "nbformat": 4,
 "nbformat_minor": 2
}
